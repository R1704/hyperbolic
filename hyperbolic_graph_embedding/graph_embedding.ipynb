{
 "cells": [
  {
   "cell_type": "markdown",
   "metadata": {},
   "source": [
    "# Comparing Euclidean and Hyperbolic Embeddings"
   ]
  },
  {
   "cell_type": "markdown",
   "metadata": {},
   "source": [
    "### Euclidean Embedding\n",
    "\n",
    "We will map the nodes to feature vectors $u_1,...,u_N$ . Since the network\n",
    "is pretty small, we start with the 2-dimensional space $\\mathbb{R^2}$.\n",
    "\n",
    "Define the function\n",
    "$$g(x) = 2\\frac{e^{−x}}{1 + e^{−x}}$$\n",
    "\n",
    "\n",
    "Denote by $d(u_i,u_j)$ the Euclidean distance between $u_i$ and $u_j$.\n",
    "We need to minimize the following function:\n",
    "\n",
    "$$J(u_1,..., u_N) = \\sum_{i=1}^N (\\mathbb{I}_ij−g(d(ui,uj )))2 + λ\n",
    "N\n",
    "i=1\n",
    "|ui|2$$\n",
    ".\n",
    "Here Iij equals one, if there is a link between nodes i and j, and Iij = 0 if\n",
    "there is no link between i and j.\n",
    "Multiplier λ>0 is the hyperparameter that should be adjusted.\n",
    "Analyze the function J. The rst term is for embedding: if two nodes\n",
    "are linked, the distance between the corresponding vectors should be zero.\n",
    "On the other hand, if two nodes are not linked, the distance between their\n",
    "vectors should be innite. The second term is the regularization term: with-\n",
    "out it the algorithm would place the vectors at innite distances. Hence,\n",
    "the regularization term ensures that some of the vectors will be embedded\n",
    "around the origin. Therefore, λshould be adjusted, so to have a compromise\n",
    "between shrinking everything in the close vicinity of the origin and spreading\n",
    "everything to innity."
   ]
  }
 ],
 "metadata": {
  "kernelspec": {
   "display_name": "hyperbolic",
   "language": "python",
   "name": "python3"
  },
  "language_info": {
   "name": "python",
   "version": "3.12.9"
  }
 },
 "nbformat": 4,
 "nbformat_minor": 2
}
